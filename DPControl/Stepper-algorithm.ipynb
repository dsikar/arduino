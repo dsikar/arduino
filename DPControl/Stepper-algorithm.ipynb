{
 "cells": [
  {
   "cell_type": "markdown",
   "metadata": {},
   "source": [
    "# Linear motion control\n",
    "Controlling linear motion given steps per revolution and distance convered per revolution constraints.  \n",
    "A stepper motor in normal stepping mode, turning one full revolution with number of steps $ S{_r} $, covers a distance equal to the amount of milimetres per thread $ T $. What is the expression for the pulse width divided by two?  \n",
    "$$ S = \\frac{S{_r}d}{T}, P{_w} = \\frac{ST{_i}}{2}  $$\n",
    "\n",
    "$$ P{_w} = \\frac{ST{_i}}{2} $$\n"
   ]
  },
  {
   "cell_type": "code",
   "execution_count": 1,
   "metadata": {},
   "outputs": [
    {
     "name": "stdout",
     "output_type": "stream",
     "text": [
      "Examples\n",
      "Minimum speed 0,5mm/min, maximum speed 30mm/min\n",
      "1600.0\n"
     ]
    }
   ],
   "source": [
    "print('Examples')\n",
    "print('Minimum speed 0,5mm/min, maximum speed 30mm/min')\n",
    "mmT = 1.25 # mm per thread\n",
    "sR = 400 # steps per revolution\n",
    "d = 5 # distance in mm\n",
    "# Steps per 1 second period (in micro seconds)\n",
    "St = (sR * d) / mmT\n",
    "print(St)"
   ]
  },
  {
   "cell_type": "code",
   "execution_count": 2,
   "metadata": {},
   "outputs": [
    {
     "name": "stdout",
     "output_type": "stream",
     "text": [
      "37500.0\n",
      "18750.0\n"
     ]
    }
   ],
   "source": [
    "uSm = 60000000 # microseconds per minute\n",
    "P = uSm / St\n",
    "print(P)\n",
    "hP = P / 2\n",
    "print(hP)"
   ]
  },
  {
   "cell_type": "code",
   "execution_count": 3,
   "metadata": {},
   "outputs": [],
   "source": [
    "def uSPulse(mmT, sR, d):\n",
    "    # micro seconds per pulse (logic high, equal in width to logic low)\n",
    "    St = (sR * d) / mmT\n",
    "    print(St)\n",
    "    uSm = 60000000 # microseconds per minute\n",
    "    P = uSm / St\n",
    "    hP = P / 2\n",
    "    return int(hP)"
   ]
  },
  {
   "cell_type": "code",
   "execution_count": 4,
   "metadata": {},
   "outputs": [
    {
     "name": "stdout",
     "output_type": "stream",
     "text": [
      "1600.0\n",
      "18750\n"
     ]
    }
   ],
   "source": [
    "mmT = 1.25 # mm per thread\n",
    "sR = 400 # steps per revolution\n",
    "d = 5 # distance in mm\n",
    "hP = uSPulse(mmT, sR, d)\n",
    "print(hP)"
   ]
  },
  {
   "cell_type": "code",
   "execution_count": 5,
   "metadata": {},
   "outputs": [
    {
     "name": "stdout",
     "output_type": "stream",
     "text": [
      "96000.0\n",
      "312\n"
     ]
    }
   ],
   "source": [
    "mmT = 1.25 # mm per thread\n",
    "sR = 400 # steps per revolution\n",
    "d = 300 # distance in mm\n",
    "hP = uSPulse(mmT, sR, d)\n",
    "print(hP)\n"
   ]
  },
  {
   "cell_type": "code",
   "execution_count": null,
   "metadata": {},
   "outputs": [],
   "source": []
  }
 ],
 "metadata": {
  "kernelspec": {
   "display_name": "Python 3",
   "language": "python",
   "name": "python3"
  },
  "language_info": {
   "codemirror_mode": {
    "name": "ipython",
    "version": 3
   },
   "file_extension": ".py",
   "mimetype": "text/x-python",
   "name": "python",
   "nbconvert_exporter": "python",
   "pygments_lexer": "ipython3",
   "version": "3.6.5"
  }
 },
 "nbformat": 4,
 "nbformat_minor": 2
}
